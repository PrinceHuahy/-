{
 "cells": [
  {
   "cell_type": "code",
   "execution_count": 1,
   "id": "59ef4714",
   "metadata": {},
   "outputs": [],
   "source": [
    "import pandas as pd\n",
    "import numpy as np\n",
    "import pandas as pd\n",
    "import matplotlib.pyplot as plt\n",
    "import seaborn as sns"
   ]
  },
  {
   "cell_type": "code",
   "execution_count": 2,
   "id": "3734eb72",
   "metadata": {},
   "outputs": [],
   "source": [
    "from scipy import stats\n",
    "import warnings\n",
    "warnings.filterwarnings(\"ignore\")\n",
    "## 导入工具\n",
    "import numpy as np\n",
    "import pandas as pd\n",
    "import matplotlib.pyplot as plt\n",
    "import seaborn as sns\n",
    "from scipy import stats\n",
    "import warnings"
   ]
  },
  {
   "cell_type": "code",
   "execution_count": 3,
   "id": "562adb58",
   "metadata": {},
   "outputs": [],
   "source": [
    "warnings.filterwarnings(\"ignore\")\n",
    "\n",
    "from sklearn.model_selection import train_test_split # 切分数据\n",
    "from sklearn.metrics import mean_squared_error #评价指标\n",
    "\n",
    "from sklearn.ensemble import RandomForestClassifier\n",
    "from sklearn.model_selection import GridSearchCV\n",
    "from sklearn.model_selection import cross_val_score"
   ]
  },
  {
   "cell_type": "code",
   "execution_count": 4,
   "id": "c2abf9a7",
   "metadata": {},
   "outputs": [],
   "source": [
    "data_file = \"./card_transdata.csv\"\n",
    "data = pd.read_csv(data_file, sep=',', encoding='utf-8')"
   ]
  },
  {
   "cell_type": "code",
   "execution_count": 8,
   "id": "11dbd439",
   "metadata": {},
   "outputs": [],
   "source": [
    "from sklearn.model_selection import train_test_split\n",
    "X = data.drop('fraud', axis=1)\n",
    "y = data.fraud #将fraud列单独摘出\n",
    "X_train, X_test,y_train, y_test = train_test_split(X, y, test_size=0.3, shuffle=True)"
   ]
  },
  {
   "cell_type": "code",
   "execution_count": null,
   "id": "007598f1",
   "metadata": {},
   "outputs": [],
   "source": []
  },
  {
   "cell_type": "code",
   "execution_count": 10,
   "id": "88dda412",
   "metadata": {},
   "outputs": [
    {
     "name": "stdout",
     "output_type": "stream",
     "text": [
      "Accuracy of LR Classifier: 0.9576866666666667\n"
     ]
    }
   ],
   "source": [
    "from sklearn.linear_model import LogisticRegression\n",
    "from sklearn.linear_model import SGDClassifier\n",
    "lr=LogisticRegression()\n",
    "lr.fit(X_train,y_train)\n",
    "lr_y_predict=lr.predict(X_test)\n",
    "#从sklearn.metrics里导入classification_report模块\n",
    "from sklearn.metrics import classification_report\n",
    "#使用逻辑斯蒂回归墨香自带的评分函数score获得模型在测试集上的准确性结果\n",
    "print('Accuracy of LR Classifier:',lr.score(X_test,y_test))"
   ]
  },
  {
   "cell_type": "markdown",
   "id": "12f31dc1",
   "metadata": {},
   "source": [
    "# 模型训练"
   ]
  },
  {
   "cell_type": "markdown",
   "id": "bb0f05e5",
   "metadata": {},
   "source": [
    "## 随机森林"
   ]
  },
  {
   "cell_type": "code",
   "execution_count": 6,
   "id": "bbaefe6d",
   "metadata": {},
   "outputs": [],
   "source": [
    "from sklearn.ensemble import RandomForestClassifier\n",
    "from sklearn.model_selection import GridSearchCV\n",
    "from sklearn.model_selection import cross_val_score"
   ]
  },
  {
   "cell_type": "code",
   "execution_count": 9,
   "id": "a827b3eb",
   "metadata": {},
   "outputs": [],
   "source": [
    "param_grid = {'n_estimators':np.arange(100,200,10),\n",
    "              'max_depth':np.arange(3,20,1),\n",
    "              'min_samples_split':np.arange(2,2+20,2),\n",
    "             }"
   ]
  },
  {
   "cell_type": "code",
   "execution_count": 7,
   "id": "834f9629",
   "metadata": {},
   "outputs": [
    {
     "data": {
      "text/plain": [
       "RandomForestClassifier(random_state=0)"
      ]
     },
     "execution_count": 7,
     "metadata": {},
     "output_type": "execute_result"
    }
   ],
   "source": [
    "rf = RandomForestClassifier(random_state = 0)\n",
    "rf.fit(X_train,y_train)"
   ]
  },
  {
   "cell_type": "code",
   "execution_count": 11,
   "id": "12333b2f",
   "metadata": {},
   "outputs": [
    {
     "data": {
      "text/plain": [
       "['./rf.pkl']"
      ]
     },
     "execution_count": 11,
     "metadata": {},
     "output_type": "execute_result"
    }
   ],
   "source": [
    "import joblib\n",
    "joblib.dump(rf,\"./rf.pkl\")"
   ]
  },
  {
   "cell_type": "code",
   "execution_count": null,
   "id": "47adb801",
   "metadata": {},
   "outputs": [],
   "source": [
    "print(GS.best_params_)\n",
    "print(GS.best_score_) "
   ]
  },
  {
   "cell_type": "markdown",
   "id": "852a5826",
   "metadata": {},
   "source": [
    "## LogisticRegression"
   ]
  },
  {
   "cell_type": "code",
   "execution_count": 12,
   "id": "69a316c4",
   "metadata": {},
   "outputs": [],
   "source": [
    "from sklearn.linear_model import LogisticRegression\n",
    "from sklearn.model_selection import GridSearchCV\n",
    "from sklearn.model_selection import cross_val_score\n",
    "penaltys = ['l1','l2']\n",
    "Cs = [0.001, 0.01, 0.1, 1, 10, 100, 1000]\n",
    "tuned_parameters = dict(penalty = penaltys, C = Cs)\n",
    " \n",
    "lr_penalty= LogisticRegression()\n",
    "grid= GridSearchCV(lr_penalty, tuned_parameters,cv=5, scoring='neg_log_loss')\n",
    "grid.fit(X_train,y_train)\n",
    "lr=LogisticRegression(C=grid.best_params_[\"C\"],penalty = grid.best_params_[\"penalty\"])\n"
   ]
  },
  {
   "cell_type": "code",
   "execution_count": 13,
   "id": "bdbd5d49",
   "metadata": {},
   "outputs": [
    {
     "data": {
      "text/plain": [
       "LogisticRegression(random_state=0)"
      ]
     },
     "execution_count": 13,
     "metadata": {},
     "output_type": "execute_result"
    }
   ],
   "source": [
    "lr.fit(X_train,y_train)\n"
   ]
  },
  {
   "cell_type": "code",
   "execution_count": 14,
   "id": "60240a65",
   "metadata": {},
   "outputs": [
    {
     "data": {
      "text/plain": [
       "['./lr.pkl']"
      ]
     },
     "execution_count": 14,
     "metadata": {},
     "output_type": "execute_result"
    }
   ],
   "source": [
    "joblib.dump(lr,\"./lr.pkl\")"
   ]
  },
  {
   "cell_type": "markdown",
   "id": "dfea5507",
   "metadata": {},
   "source": [
    "# svc"
   ]
  },
  {
   "cell_type": "code",
   "execution_count": 19,
   "id": "0e927860",
   "metadata": {},
   "outputs": [],
   "source": [
    "from sklearn.svm import SVC\n",
    "tuned_parameters = {'kernel': ['rbf'], 'gamma': [1e-3, 1e-4],\n",
    "                     'C': [1, 10, 100, 1000]\n",
    "                   }\n",
    "grid= GridSearchCV(SVC(), tuned_parameters,cv=5, scoring='neg_log_loss')\n",
    "grid.fit(X_train,y_train)\n",
    "SVC = SVC(kernel=grid.best_params_[\"kernel\"],gamma =grid.best_params_[\"gamma\"] 0,probability=True,C = grid.best_params_[\"C\"],)"
   ]
  },
  {
   "cell_type": "code",
   "execution_count": null,
   "id": "39b416ae",
   "metadata": {},
   "outputs": [],
   "source": [
    "SVC.fit(X_train,y_train)"
   ]
  },
  {
   "cell_type": "code",
   "execution_count": null,
   "id": "d9e4d526",
   "metadata": {},
   "outputs": [],
   "source": [
    "import joblib\n",
    "joblib.dump(SVC,\"./SVC.pkl\")"
   ]
  },
  {
   "cell_type": "markdown",
   "id": "6dc9d33a",
   "metadata": {},
   "source": [
    "# KNN"
   ]
  },
  {
   "cell_type": "code",
   "execution_count": 12,
   "id": "dfc61162",
   "metadata": {},
   "outputs": [
    {
     "data": {
      "text/plain": [
       "['./KNN.pkl']"
      ]
     },
     "execution_count": 12,
     "metadata": {},
     "output_type": "execute_result"
    }
   ],
   "source": [
    "from sklearn.neighbors import KNeighborsClassifier \n",
    "param_grid = [\n",
    "    {\n",
    "        \"weights\":[\"uniform\"],\n",
    "        \"n_neighbors\":[i for i in range(1,11)]\n",
    "    },\n",
    "    {\n",
    "        \"weights\":[\"distance\"],\n",
    "        \"n_neighbors\":[i for i in range(1,11)]\n",
    "    }\n",
    "]\n",
    "knn_clf = KNeighborsClassifier()\n",
    "#网格搜素的对象\n",
    "#n_jobs指的是使用计算机的几个核,verbose是训练过程中的输出\n",
    "grid_search = GridSearchCV(knn_clf,param_grid,cv=5,n_jobs=-1,verbose=2)\n",
    "grid_search.fit(X_train,y_train)\n",
    "\n",
    "KNN = KNeighborsClassifier(weights = grid.best_params_[\"weights\"],n_neighbors =grid.best_params_[\"n_neighbors\"] )\n",
    "KNN.fit(X_train,y_train)\n",
    "joblib.dump(KNN,\"./KNN.pkl\")"
   ]
  },
  {
   "cell_type": "markdown",
   "id": "d7ff0a9d",
   "metadata": {},
   "source": [
    "# DecisionTreeClassifier"
   ]
  },
  {
   "cell_type": "code",
   "execution_count": 13,
   "id": "a927c263",
   "metadata": {},
   "outputs": [
    {
     "data": {
      "text/plain": [
       "['./DecisionTreeClassifier.pkl']"
      ]
     },
     "execution_count": 13,
     "metadata": {},
     "output_type": "execute_result"
    }
   ],
   "source": [
    "from sklearn import tree\n",
    "param_grid = {\n",
    "        'criterion': ['entropy','gini'],\n",
    "        'max_depth': [3, 4, 5, 6, 7, 8],\n",
    "        'min_samples_split': [4,5,6,7,8,9, 12, 16, 20, 24]\n",
    "        }\n",
    "clf =DecisionTreeClassifier()\n",
    "grid_search = GridSearchCV(clf,param_grid,cv=5,n_jobs=-1,verbose=2)\n",
    "grid_search.fit(X_train,y_train)\n",
    "DecisionTreeClassifier = tree.DecisionTreeClassifier(criterion=grid.best_params_['criterion']max_depth =grid.best_params_[\"max_depth\"] ,max_leaf_nodes = grid.best_params_[\"max_leaf_nodes\"])\n",
    "DecisionTreeClassifier.fit(X_train,y_train)\n",
    "joblib.dump(DecisionTreeClassifier,\"./DecisionTreeClassifier.pkl\")"
   ]
  },
  {
   "cell_type": "markdown",
   "id": "21691da0",
   "metadata": {},
   "source": [
    "# GradientBoostingClassifier"
   ]
  },
  {
   "cell_type": "code",
   "execution_count": 14,
   "id": "f1a4d09d",
   "metadata": {},
   "outputs": [
    {
     "data": {
      "text/plain": [
       "['./GradientBoostingClassifier.pkl']"
      ]
     },
     "execution_count": 14,
     "metadata": {},
     "output_type": "execute_result"
    }
   ],
   "source": [
    "from sklearn.ensemble import GradientBoostingClassifier\n",
    "param_grid = {\"n_estimators\":np.range(100,200,10),\n",
    "             \"learning_rate\":np.range(0.01,1,0.05),\n",
    "             \"max_depth\"=np.range(1,10,1)} \n",
    "clf =GradientBoostingClassifier()\n",
    "#网格搜素的对象\n",
    "#n_jobs指的是使用计算机的几个核,verbose是训练过程中的输出\n",
    "grid_search = GridSearchCV(clf,param_grid,cv=5,n_jobs=-1,verbose=2)\n",
    "grid_search.fit(X_train,y_train)\n",
    "GradientBoostingClassifier = GradientBoostingClassifier(learning_rate=grid.best_params_[\"learning_rate\"],\n",
    "                                                        n_estimators=grid.best_params_[\"n_estimators\"],\n",
    "                                                       max_depth= grid.best_params_[\"max_depth\"])\n",
    "GradientBoostingClassifier.fit(X_train,y_train)\n",
    "joblib.dump(GradientBoostingClassifier,\"./GradientBoostingClassifier.pkl\")"
   ]
  },
  {
   "cell_type": "markdown",
   "id": "69a1393a",
   "metadata": {},
   "source": [
    "# AdaBoostClassifier"
   ]
  },
  {
   "cell_type": "code",
   "execution_count": 15,
   "id": "386510a7",
   "metadata": {},
   "outputs": [
    {
     "data": {
      "text/plain": [
       "['./AdaBoostClassifier.pkl']"
      ]
     },
     "execution_count": 15,
     "metadata": {},
     "output_type": "execute_result"
    }
   ],
   "source": [
    "from sklearn.ensemble import  AdaBoostClassifier \n",
    "param_grid = {\"n_estimators\":np.range(100,200,10),\n",
    "             \"learning_rate\":np.range(0.01,1,0.05),\n",
    "             \"max_depth\"=np.range(1,10,1)} \n",
    "    \n",
    "clf =AdaBoostClassifier ()\n",
    "#网格搜素的对象\n",
    "#n_jobs指的是使用计算机的几个核,verbose是训练过程中的输出\n",
    "grid_search = GridSearchCV(clf,param_grid,cv=5,n_jobs=-1,verbose=2)\n",
    "grid_search.fit(X_train,y_train)\n",
    "AdaBoostClassifier = AdaBoostClassifier(learning_rate=grid.best_params_[\"learning_rate\"],n_estimators=grid.best_params_[\"n_estimators\"],max_depth= grid.best_params_[\"max_depth\"])\n",
    "AdaBoostClassifier.fit(X_train,y_train)\n",
    "joblib.dump(AdaBoostClassifier,\"./AdaBoostClassifier.pkl\")"
   ]
  },
  {
   "cell_type": "markdown",
   "id": "7228d4f8",
   "metadata": {},
   "source": [
    "# GaussianNB\n",
    "\n"
   ]
  },
  {
   "cell_type": "code",
   "execution_count": 16,
   "id": "e519ca88",
   "metadata": {},
   "outputs": [
    {
     "data": {
      "text/plain": [
       "['./GaussianNB.pkl']"
      ]
     },
     "execution_count": 16,
     "metadata": {},
     "output_type": "execute_result"
    }
   ],
   "source": [
    "from sklearn.naive_bayes import GaussianNB\n",
    "GaussianNB = GaussianNB()\n",
    "GaussianNB.fit(X_train,y_train)\n",
    "joblib.dump(GaussianNB,\"./GaussianNB.pkl\")              "
   ]
  },
  {
   "cell_type": "markdown",
   "id": "26899085",
   "metadata": {},
   "source": [
    "# Quadratic Discriminant Analysis"
   ]
  },
  {
   "cell_type": "code",
   "execution_count": 17,
   "id": "ca90cff5",
   "metadata": {},
   "outputs": [
    {
     "data": {
      "text/plain": [
       "['./QuadraticDiscriminantAnalysis.pkl']"
      ]
     },
     "execution_count": 17,
     "metadata": {},
     "output_type": "execute_result"
    }
   ],
   "source": [
    "from sklearn.discriminant_analysis import QuadraticDiscriminantAnalysis\n",
    "QuadraticDiscriminantAnalysis = QuadraticDiscriminantAnalysis()\n",
    "QuadraticDiscriminantAnalysis.fit(X_train,y_train)\n",
    "joblib.dump(QuadraticDiscriminantAnalysis,\"./QuadraticDiscriminantAnalysis.pkl\")  "
   ]
  },
  {
   "cell_type": "code",
   "execution_count": null,
   "id": "2b32ff41",
   "metadata": {},
   "outputs": [],
   "source": []
  },
  {
   "cell_type": "code",
   "execution_count": null,
   "id": "991dfa30",
   "metadata": {},
   "outputs": [],
   "source": []
  },
  {
   "cell_type": "code",
   "execution_count": null,
   "id": "15fe2f0c",
   "metadata": {},
   "outputs": [],
   "source": []
  },
  {
   "cell_type": "code",
   "execution_count": null,
   "id": "2c704511",
   "metadata": {},
   "outputs": [],
   "source": []
  },
  {
   "cell_type": "code",
   "execution_count": null,
   "id": "a4cca5bf",
   "metadata": {},
   "outputs": [],
   "source": []
  },
  {
   "cell_type": "code",
   "execution_count": null,
   "id": "b9bad940",
   "metadata": {},
   "outputs": [],
   "source": []
  },
  {
   "cell_type": "code",
   "execution_count": null,
   "id": "cc514366",
   "metadata": {},
   "outputs": [],
   "source": []
  },
  {
   "cell_type": "code",
   "execution_count": null,
   "id": "5b60fb1b",
   "metadata": {},
   "outputs": [],
   "source": []
  },
  {
   "cell_type": "code",
   "execution_count": null,
   "id": "00dadce4",
   "metadata": {},
   "outputs": [],
   "source": []
  },
  {
   "cell_type": "code",
   "execution_count": null,
   "id": "5b868bfd",
   "metadata": {},
   "outputs": [],
   "source": []
  },
  {
   "cell_type": "code",
   "execution_count": null,
   "id": "b1c9e0a2",
   "metadata": {},
   "outputs": [],
   "source": []
  },
  {
   "cell_type": "code",
   "execution_count": null,
   "id": "f86a7b3f",
   "metadata": {},
   "outputs": [],
   "source": []
  },
  {
   "cell_type": "code",
   "execution_count": null,
   "id": "ba0da32c",
   "metadata": {},
   "outputs": [],
   "source": []
  },
  {
   "cell_type": "code",
   "execution_count": null,
   "id": "ac8726a7",
   "metadata": {},
   "outputs": [],
   "source": []
  },
  {
   "cell_type": "code",
   "execution_count": null,
   "id": "4d0ea9d4",
   "metadata": {},
   "outputs": [],
   "source": []
  },
  {
   "cell_type": "code",
   "execution_count": null,
   "id": "8fe92ef0",
   "metadata": {},
   "outputs": [],
   "source": []
  },
  {
   "cell_type": "code",
   "execution_count": null,
   "id": "67696c75",
   "metadata": {},
   "outputs": [],
   "source": []
  },
  {
   "cell_type": "code",
   "execution_count": null,
   "id": "28510322",
   "metadata": {},
   "outputs": [],
   "source": []
  },
  {
   "cell_type": "code",
   "execution_count": null,
   "id": "bbe9bda1",
   "metadata": {},
   "outputs": [],
   "source": []
  },
  {
   "cell_type": "code",
   "execution_count": null,
   "id": "3c58fbea",
   "metadata": {},
   "outputs": [],
   "source": []
  },
  {
   "cell_type": "code",
   "execution_count": null,
   "id": "ace4295d",
   "metadata": {},
   "outputs": [],
   "source": []
  },
  {
   "cell_type": "code",
   "execution_count": null,
   "id": "1e001dab",
   "metadata": {},
   "outputs": [],
   "source": []
  },
  {
   "cell_type": "code",
   "execution_count": null,
   "id": "fc8efdf5",
   "metadata": {},
   "outputs": [],
   "source": []
  },
  {
   "cell_type": "code",
   "execution_count": null,
   "id": "dc735ea5",
   "metadata": {},
   "outputs": [],
   "source": []
  },
  {
   "cell_type": "code",
   "execution_count": null,
   "id": "b6d9a53f",
   "metadata": {},
   "outputs": [],
   "source": []
  },
  {
   "cell_type": "code",
   "execution_count": null,
   "id": "08623239",
   "metadata": {},
   "outputs": [],
   "source": [
    "print(classification_report(y_test,lr_y_predict))"
   ]
  },
  {
   "cell_type": "code",
   "execution_count": 90,
   "id": "94d9b8ea",
   "metadata": {},
   "outputs": [],
   "source": [
    "from sklearn.metrics import precision_score\n",
    "from sklearn.metrics import recall_score\n",
    "from sklearn.metrics import f1_score\n",
    "#我们的数据是样本不平衡的，参数为weighted可以帮助解决样本不平衡的问题\n",
    "precision = precision_score(y_test,lr_y_predict, average='weighted') \n",
    "recall = recall_score(y_test,lr_y_predict, average='weighted')\n",
    "f1score = f1_score(y_test,lr_y_predict, average='weighted')"
   ]
  },
  {
   "cell_type": "code",
   "execution_count": 16,
   "id": "d5244fa1",
   "metadata": {},
   "outputs": [
    {
     "data": {
      "text/plain": [
       "array([[271683,   2024],\n",
       "       [ 10670,  15623]], dtype=int64)"
      ]
     },
     "execution_count": 16,
     "metadata": {},
     "output_type": "execute_result"
    }
   ],
   "source": [
    "from sklearn.metrics import confusion_matrix\n",
    "confusion_matrix(y_test,lr_y_predict)"
   ]
  },
  {
   "cell_type": "code",
   "execution_count": 17,
   "id": "aff547fb",
   "metadata": {},
   "outputs": [
    {
     "data": {
      "image/png": "[encoded data removed]",
      "text/plain": [
       "<Figure size 432x288 with 2 Axes>"
      ]
     },
     "metadata": {
      "needs_background": "light"
     },
     "output_type": "display_data"
    }
   ],
   "source": [
    "#混淆矩阵可视化\n",
    "from sklearn.metrics import plot_confusion_matrix\n",
    "plot_confusion_matrix(lr, X_test, y_test)  \n",
    "plt.show()"
   ]
  },
  {
   "cell_type": "code",
   "execution_count": 24,
   "id": "eb13958d",
   "metadata": {},
   "outputs": [
    {
     "name": "stdout",
     "output_type": "stream",
     "text": [
      "0.967858090032989\n"
     ]
    }
   ],
   "source": [
    "from sklearn.metrics import roc_auc_score as AUC\n",
    "area =AUC(y_test,lr.decision_function(X_test))\n",
    "print(area)"
   ]
  },
  {
   "cell_type": "markdown",
   "id": "35288fbb",
   "metadata": {},
   "source": [
    "# 模型评价指标"
   ]
  },
  {
   "cell_type": "code",
   "execution_count": 36,
   "id": "06b12aa5",
   "metadata": {},
   "outputs": [],
   "source": [
    "import pandas as pd\n",
    "import numpy as np\n",
    "from sklearn.metrics import roc_auc_score,roc_curve,auc\n",
    "from sklearn import metrics\n",
    "from matplotlib import pyplot\n",
    "from numpy import argmax\n",
    "from functools import reduce\n"
   ]
  },
  {
   "cell_type": "code",
   "execution_count": 38,
   "id": "b3e246e8",
   "metadata": {},
   "outputs": [],
   "source": [
    "def find_optimal_cutoff(tpr,fpr,threshold):\n",
    "    optimal_idx = np.argmax(tpr - fpr)\n",
    "    optimal_threshold = threshold[optimal_idx]\n",
    "    return optimal_threshold\n"
   ]
  },
  {
   "cell_type": "code",
   "execution_count": 48,
   "id": "2a055f38",
   "metadata": {},
   "outputs": [],
   "source": [
    "def best_confusion_matrix(y_test, y_test_predprob):\n",
    "    fpr, tpr, thresholds = roc_curve(y_test, y_test_predprob, pos_label=1)\n",
    "    cutoff = find_optimal_cutoff(tpr,fpr,thresholds)\n",
    "    y_pred = list(map(lambda x:1 if x>=cutoff else 0,y_test_predprob))\n",
    "    TN,FP,FN,TP = confusion_matrix(y_test,y_pred).ravel()\n",
    "    return cutoff,TN,FN,FP,TP\n"
   ]
  },
  {
   "cell_type": "code",
   "execution_count": 97,
   "id": "61e14ac1",
   "metadata": {},
   "outputs": [],
   "source": [
    "def evaluation(clf,X_train,y_train,X_test,y_test,modelname,digits):\n",
    "    \"\"\"\n",
    "        计算各个模型评价指标\n",
    "        \n",
    "        Args:\n",
    "            clf：已经fit好的模型\n",
    "            X_train,y_train,X_test,y_test:\t训练和测试数据集\n",
    "            modelname：模型名称，为了表格的绘制\n",
    "            digits：各个评价指标需要保留的位数\n",
    "        Returns:\n",
    "            返回单个模型评价指标表格\n",
    "        \"\"\"\n",
    "    \n",
    "    y_train_predprob = clf.predict_proba(X_train)[:, 1]\n",
    "    train_auc = round(roc_auc_score(y_train, y_train_predprob),digits)\n",
    "\n",
    "    y_test_predprob = clf.predict_proba(X_test)[:, 1]\n",
    "    test_auc = round(roc_auc_score(y_test, y_test_predprob),digits)\n",
    "    \n",
    "    train_cutoff, TN1,FN1,FP1,TP1 = best_confusion_matrix(y_train,y_train_predprob)\n",
    "    test_cutoff, TN2,FN2,FP2,TP2 = best_confusion_matrix(y_test,y_test_predprob)\n",
    "\n",
    "    #Sen Spe\n",
    "    recall,specificity= round(TP2/(TP2+FN2),digits), round(TN2/(FP2+TN2),digits)\n",
    " \n",
    "    #PPV NPV\n",
    "    npv,ppv = round(TN2/(FN2+TN2),digits),round(TP2/(TP2+FP2),digits)\n",
    "    \n",
    "    #PLR NLR\n",
    "    plr,nlr = round((TP2/(TP2+FN2))/(FP2/(FP2+TN2)),digits),round((FN2/(TP2+FN2))/(TN2/(FP2+TN2)),digits)\n",
    "    \n",
    "    #F1值\n",
    "    y_test_pred=list(map(lambda x:1 if x>=test_cutoff else 0,y_test_predprob))\n",
    "    f1 = round(f1_score(y_test, y_test_pred),digits)\n",
    "    \n",
    "    #Youden Index\n",
    "    youden = round(TP2/(TP2+FN2)+TN2/(FP2+TN2)-1,digits)\n",
    "\n",
    "    #MCC\n",
    "    mcc = round(sklearn.metrics.matthews_corrcoef(y_test, y_test_pred),digits)\n",
    "    \n",
    "    #Kappa\n",
    "    kappa =round(sklearn.metrics.cohen_kappa_score(y_test_pred, y_test),digits)\n",
    "\n",
    "    #Precison\n",
    "    precison= round(precision_score(y_test,y_test_pred),digits)\n",
    "  \n",
    "    eval_df = {'Model': ['Train_AUC','Test_AUC','Specificity','Recall',\"Precision\",'F1','Youden Index','MCC','Kappa','NPV','PPV','PLR','NLR'], \"Name\": [train_auc, test_auc,specificity,recall,precison,f1,youden,mcc,kappa,npv,ppv,plr,nlr]}\n",
    "    eval_df = pd.DataFrame(data=eval_df)\n",
    "\n",
    "    return eval_df\n"
   ]
  },
  {
   "cell_type": "code",
   "execution_count": 62,
   "id": "a3517f7e",
   "metadata": {},
   "outputs": [],
   "source": [
    "import sklearn"
   ]
  },
  {
   "cell_type": "code",
   "execution_count": 93,
   "id": "230eed24",
   "metadata": {},
   "outputs": [],
   "source": [
    "res_lr=evaluation(lr,X_train,y_train,X_test,y_test,\"LR\",2)\n",
    "res_rf=evaluation(rf,X_train,y_train,X_test,y_test,\"rf\",2)\n",
    "\n",
    "\n",
    "frames = [res_lr,res_rf]\n",
    "res_df = reduce(lambda df1,df2: pd.merge(df1,df2,on='Model'), frames)\n"
   ]
  },
  {
   "cell_type": "code",
   "execution_count": null,
   "id": "5609d1b7",
   "metadata": {},
   "outputs": [],
   "source": [
    "#将表格保存为csv格式文件\n",
    "res_df.to_csv('model_evaluation.csv',encoding = 'utf_8_sig')"
   ]
  },
  {
   "cell_type": "code",
   "execution_count": 94,
   "id": "a2209751",
   "metadata": {},
   "outputs": [],
   "source": [
    "res_df.columns = [\"指标\",\"LogisticRegression\",\"RandomForestClassifier\"]"
   ]
  },
  {
   "cell_type": "code",
   "execution_count": 95,
   "id": "01199081",
   "metadata": {},
   "outputs": [
    {
     "data": {
      "text/html": [
       "<div>\n",
       "<style scoped>\n",
       "    .dataframe tbody tr th:only-of-type {\n",
       "        vertical-align: middle;\n",
       "    }\n",
       "\n",
       "    .dataframe tbody tr th {\n",
       "        vertical-align: top;\n",
       "    }\n",
       "\n",
       "    .dataframe thead th {\n",
       "        text-align: right;\n",
       "    }\n",
       "</style>\n",
       "<table border=\"1\" class=\"dataframe\">\n",
       "  <thead>\n",
       "    <tr style=\"text-align: right;\">\n",
       "      <th></th>\n",
       "      <th>指标</th>\n",
       "      <th>LogisticRegression</th>\n",
       "      <th>RandomForestClassifier</th>\n",
       "    </tr>\n",
       "  </thead>\n",
       "  <tbody>\n",
       "    <tr>\n",
       "      <th>0</th>\n",
       "      <td>train_auc</td>\n",
       "      <td>0.97</td>\n",
       "      <td>1.0</td>\n",
       "    </tr>\n",
       "    <tr>\n",
       "      <th>1</th>\n",
       "      <td>test_auc</td>\n",
       "      <td>0.97</td>\n",
       "      <td>1.0</td>\n",
       "    </tr>\n",
       "    <tr>\n",
       "      <th>2</th>\n",
       "      <td>specificity</td>\n",
       "      <td>0.92</td>\n",
       "      <td>1.0</td>\n",
       "    </tr>\n",
       "    <tr>\n",
       "      <th>3</th>\n",
       "      <td>sensitivity</td>\n",
       "      <td>0.93</td>\n",
       "      <td>1.0</td>\n",
       "    </tr>\n",
       "    <tr>\n",
       "      <th>4</th>\n",
       "      <td>precision</td>\n",
       "      <td>0.54</td>\n",
       "      <td>1.0</td>\n",
       "    </tr>\n",
       "    <tr>\n",
       "      <th>5</th>\n",
       "      <td>F1</td>\n",
       "      <td>0.68</td>\n",
       "      <td>1.0</td>\n",
       "    </tr>\n",
       "    <tr>\n",
       "      <th>6</th>\n",
       "      <td>Youden Index</td>\n",
       "      <td>0.85</td>\n",
       "      <td>1.0</td>\n",
       "    </tr>\n",
       "    <tr>\n",
       "      <th>7</th>\n",
       "      <td>MCC</td>\n",
       "      <td>0.67</td>\n",
       "      <td>1.0</td>\n",
       "    </tr>\n",
       "    <tr>\n",
       "      <th>8</th>\n",
       "      <td>Kappa</td>\n",
       "      <td>0.64</td>\n",
       "      <td>1.0</td>\n",
       "    </tr>\n",
       "    <tr>\n",
       "      <th>9</th>\n",
       "      <td>npv</td>\n",
       "      <td>0.99</td>\n",
       "      <td>1.0</td>\n",
       "    </tr>\n",
       "    <tr>\n",
       "      <th>10</th>\n",
       "      <td>ppv</td>\n",
       "      <td>0.54</td>\n",
       "      <td>1.0</td>\n",
       "    </tr>\n",
       "    <tr>\n",
       "      <th>11</th>\n",
       "      <td>plr</td>\n",
       "      <td>11.98</td>\n",
       "      <td>inf</td>\n",
       "    </tr>\n",
       "    <tr>\n",
       "      <th>12</th>\n",
       "      <td>nlr</td>\n",
       "      <td>0.08</td>\n",
       "      <td>0.0</td>\n",
       "    </tr>\n",
       "  </tbody>\n",
       "</table>\n",
       "</div>"
      ],
      "text/plain": [
       "              指标  LogisticRegression  RandomForestClassifier\n",
       "0      train_auc                0.97                     1.0\n",
       "1       test_auc                0.97                     1.0\n",
       "2    specificity                0.92                     1.0\n",
       "3    sensitivity                0.93                     1.0\n",
       "4      precision                0.54                     1.0\n",
       "5             F1                0.68                     1.0\n",
       "6   Youden Index                0.85                     1.0\n",
       "7            MCC                0.67                     1.0\n",
       "8          Kappa                0.64                     1.0\n",
       "9            npv                0.99                     1.0\n",
       "10           ppv                0.54                     1.0\n",
       "11           plr               11.98                     inf\n",
       "12           nlr                0.08                     0.0"
      ]
     },
     "execution_count": 95,
     "metadata": {},
     "output_type": "execute_result"
    }
   ],
   "source": [
    "res_df"
   ]
  },
  {
   "cell_type": "markdown",
   "id": "b0832088",
   "metadata": {},
   "source": [
    "# ROC曲线"
   ]
  },
  {
   "cell_type": "code",
   "execution_count": 87,
   "id": "d09d8cae",
   "metadata": {},
   "outputs": [],
   "source": [
    " def multi_models_roc(names, sampling_methods, colors, X_test, y_test, save=True, dpin=100):\n",
    "        \"\"\"\n",
    "        将多个机器模型的roc图输出到一张图上\n",
    "        \n",
    "        Args:\n",
    "            names: list, 多个模型的名称\n",
    "            sampling_methods: list, 多个模型的实例化对象\n",
    "            save: 选择是否将结果保存（默认为png格式）\n",
    "            \n",
    "        Returns:\n",
    "            返回图片对象plt\n",
    "        \"\"\"\n",
    "        plt.figure(figsize=(20, 20), dpi=dpin)\n",
    "\n",
    "        for (name, method, colorname) in zip(names, sampling_methods, colors):\n",
    "            \n",
    "            y_test_preds = method.predict(X_test)\n",
    "            y_test_predprob = method.predict_proba(X_test)[:,1]\n",
    "            fpr, tpr, thresholds = roc_curve(y_test, y_test_predprob, pos_label=1)\n",
    "            \n",
    "            plt.plot(fpr, tpr, lw=5, label='{} (AUC={:.3f})'.format(name, auc(fpr, tpr)),color = colorname)\n",
    "            plt.plot([0, 1], [0, 1], '--', lw=5, color = 'grey')\n",
    "            plt.axis('square')\n",
    "            plt.xlim([0, 1])\n",
    "            plt.ylim([0, 1])\n",
    "            plt.xlabel('False Positive Rate',fontsize=20)\n",
    "            plt.ylabel('True Positive Rate',fontsize=20)\n",
    "            plt.title('ROC Curve',fontsize=25)\n",
    "            plt.legend(loc='lower right',fontsize=20)\n",
    "\n",
    "        if save:\n",
    "            plt.savefig('multi_models_roc.png')\n",
    "            \n",
    "        return plt\n"
   ]
  },
  {
   "cell_type": "code",
   "execution_count": 89,
   "id": "d2d08c06",
   "metadata": {},
   "outputs": [
    {
     "data": {
      "image/png": "[encoded data removed]",
      "text/plain": [
       "<Figure size 2000x2000 with 1 Axes>"
      ]
     },
     "metadata": {
      "needs_background": "light"
     },
     "output_type": "display_data"
    }
   ],
   "source": [
    "names = ['Logistic Regression',\n",
    "         'Random Forest'\n",
    "        ]\n",
    "\n",
    "sampling_methods = [lr,\n",
    "                    rf\n",
    "                   ]\n",
    "\n",
    "colors = ['crimson','orange',\"brown\",\"chocolate\",\"gold\",\"lawngreen\",\"cyan\",\"dodgerblue\",\"b\"\n",
    "         ]\n",
    "\n",
    "#ROC curves\n",
    "train_roc_graph = multi_models_roc(names, sampling_methods, colors, X_train, y_train, save = True)\n",
    "train_roc_graph.savefig('ROC_Train_all.png')\n"
   ]
  },
  {
   "cell_type": "code",
   "execution_count": null,
   "id": "be4abc69",
   "metadata": {},
   "outputs": [],
   "source": []
  },
  {
   "cell_type": "code",
   "execution_count": null,
   "id": "e4d7732b",
   "metadata": {},
   "outputs": [],
   "source": [
    "from sklean.externals import joblib\n",
    "joblib.dump(lr,\"./tmp/test.pkl\")"
   ]
  },
  {
   "cell_type": "code",
   "execution_count": null,
   "id": "a5d4f692",
   "metadata": {},
   "outputs": [],
   "source": []
  },
  {
   "cell_type": "code",
   "execution_count": null,
   "id": "e2ae4b0e",
   "metadata": {},
   "outputs": [],
   "source": []
  },
  {
   "cell_type": "code",
   "execution_count": null,
   "id": "cdf63fa1",
   "metadata": {},
   "outputs": [],
   "source": []
  },
  {
   "cell_type": "code",
   "execution_count": null,
   "id": "b97ebd46",
   "metadata": {},
   "outputs": [],
   "source": []
  },
  {
   "cell_type": "code",
   "execution_count": null,
   "id": "0a11a0d0",
   "metadata": {},
   "outputs": [],
   "source": []
  },
  {
   "cell_type": "code",
   "execution_count": null,
   "id": "dbf9727c",
   "metadata": {},
   "outputs": [],
   "source": []
  },
  {
   "cell_type": "code",
   "execution_count": null,
   "id": "e32912e9",
   "metadata": {},
   "outputs": [],
   "source": []
  },
  {
   "cell_type": "code",
   "execution_count": null,
   "id": "716f7333",
   "metadata": {},
   "outputs": [],
   "source": []
  },
  {
   "cell_type": "code",
   "execution_count": null,
   "id": "3b0c4802",
   "metadata": {},
   "outputs": [],
   "source": []
  },
  {
   "cell_type": "code",
   "execution_count": null,
   "id": "c0d2b4bf",
   "metadata": {},
   "outputs": [],
   "source": []
  },
  {
   "cell_type": "code",
   "execution_count": null,
   "id": "9fc664b5",
   "metadata": {},
   "outputs": [],
   "source": []
  },
  {
   "cell_type": "code",
   "execution_count": null,
   "id": "e556c0a3",
   "metadata": {},
   "outputs": [],
   "source": []
  },
  {
   "cell_type": "code",
   "execution_count": null,
   "id": "27cb6a5d",
   "metadata": {},
   "outputs": [],
   "source": []
  },
  {
   "cell_type": "code",
   "execution_count": null,
   "id": "468a09a0",
   "metadata": {},
   "outputs": [],
   "source": []
  },
  {
   "cell_type": "code",
   "execution_count": null,
   "id": "ee1d5baa",
   "metadata": {},
   "outputs": [],
   "source": []
  },
  {
   "cell_type": "code",
   "execution_count": null,
   "id": "5bb4185f",
   "metadata": {},
   "outputs": [],
   "source": []
  },
  {
   "cell_type": "code",
   "execution_count": null,
   "id": "d67b5b08",
   "metadata": {},
   "outputs": [],
   "source": []
  },
  {
   "cell_type": "code",
   "execution_count": null,
   "id": "6abd19aa",
   "metadata": {},
   "outputs": [],
   "source": []
  },
  {
   "cell_type": "code",
   "execution_count": null,
   "id": "4eee50b1",
   "metadata": {},
   "outputs": [],
   "source": []
  },
  {
   "cell_type": "code",
   "execution_count": null,
   "id": "9561ff60",
   "metadata": {},
   "outputs": [],
   "source": []
  },
  {
   "cell_type": "code",
   "execution_count": null,
   "id": "b7e375c8",
   "metadata": {},
   "outputs": [],
   "source": []
  },
  {
   "cell_type": "code",
   "execution_count": null,
   "id": "f8ae00e7",
   "metadata": {},
   "outputs": [],
   "source": []
  },
  {
   "cell_type": "code",
   "execution_count": null,
   "id": "5e88925a",
   "metadata": {},
   "outputs": [],
   "source": []
  },
  {
   "cell_type": "code",
   "execution_count": null,
   "id": "a2536658",
   "metadata": {},
   "outputs": [],
   "source": []
  },
  {
   "cell_type": "code",
   "execution_count": null,
   "id": "3b579504",
   "metadata": {},
   "outputs": [],
   "source": []
  },
  {
   "cell_type": "code",
   "execution_count": null,
   "id": "0cd967dd",
   "metadata": {},
   "outputs": [],
   "source": []
  },
  {
   "cell_type": "code",
   "execution_count": null,
   "id": "f695e02b",
   "metadata": {},
   "outputs": [],
   "source": []
  },
  {
   "cell_type": "code",
   "execution_count": null,
   "id": "99ecb4e6",
   "metadata": {},
   "outputs": [],
   "source": []
  },
  {
   "cell_type": "code",
   "execution_count": null,
   "id": "480559f8",
   "metadata": {},
   "outputs": [],
   "source": []
  },
  {
   "cell_type": "code",
   "execution_count": null,
   "id": "ffa27b91",
   "metadata": {},
   "outputs": [],
   "source": []
  },
  {
   "cell_type": "code",
   "execution_count": null,
   "id": "092751b7",
   "metadata": {},
   "outputs": [],
   "source": []
  },
  {
   "cell_type": "code",
   "execution_count": null,
   "id": "21864739",
   "metadata": {},
   "outputs": [],
   "source": []
  },
  {
   "cell_type": "code",
   "execution_count": null,
   "id": "86bcaa51",
   "metadata": {},
   "outputs": [],
   "source": []
  },
  {
   "cell_type": "code",
   "execution_count": null,
   "id": "71e2b28a",
   "metadata": {},
   "outputs": [],
   "source": []
  },
  {
   "cell_type": "code",
   "execution_count": null,
   "id": "8df13fa6",
   "metadata": {},
   "outputs": [],
   "source": []
  },
  {
   "cell_type": "code",
   "execution_count": null,
   "id": "c2a03c7f",
   "metadata": {},
   "outputs": [],
   "source": []
  }
 ],
 "metadata": {
  "kernelspec": {
   "display_name": "Python 3 (ipykernel)",
   "language": "python",
   "name": "python3"
  },
  "language_info": {
   "codemirror_mode": {
    "name": "ipython",
    "version": 3
   },
   "file_extension": ".py",
   "mimetype": "text/x-python",
   "name": "python",
   "nbconvert_exporter": "python",
   "pygments_lexer": "ipython3",
   "version": "3.9.12"
  }
 },
 "nbformat": 4,
 "nbformat_minor": 5
}
